{
 "cells": [
  {
   "cell_type": "code",
   "execution_count": 1,
   "metadata": {},
   "outputs": [],
   "source": [
    "import pandas as pd\n",
    "import numpy as np"
   ]
  },
  {
   "cell_type": "markdown",
   "metadata": {},
   "source": [
    "### 1. 실측데이터 / 예측데이터\n",
    "- 1시간 간격"
   ]
  },
  {
   "cell_type": "code",
   "execution_count": 17,
   "metadata": {},
   "outputs": [
    {
     "name": "stdout",
     "output_type": "stream",
     "text": [
      "Index(['location', 'ts', 'cloud', 'temp', 'temp_max', 'temp_min', 'humidity',\n",
      "       'ground_press', 'wind_speed', 'wind_dir', 'rain', 'snow'],\n",
      "      dtype='object')\n"
     ]
    },
    {
     "data": {
      "text/plain": [
       "Index(['location', 'base_ts', 'ts', 'cloud', 'temp', 'temp_max', 'temp_min',\n",
       "       'humidity', 'ground_press', 'wind_speed', 'wind_dir', 'rain', 'snow'],\n",
       "      dtype='object')"
      ]
     },
     "execution_count": 17,
     "metadata": {},
     "output_type": "execute_result"
    }
   ],
   "source": [
    "df_real1 = pd.read_csv('data/기상실측데이터_1.csv')\n",
    "df_real2 = pd.read_csv('data/기상실측데이터_2.csv')\n",
    "\n",
    "df_predict1 = pd.read_csv('data/기상예측데이터_1.csv')\n",
    "df_predict2 = pd.read_csv('data/기상예측데이터_2.csv')\n",
    "\n",
    "df_real1 = df_real1[df_real1['location'] != 'location']\n",
    "df_real2 = df_real2[df_real2['location'] != 'location']\n",
    "df_predict1 = df_predict1[df_predict1['location'] != 'location']\n",
    "df_predict2 = df_predict2[df_predict2['location'] != 'location']\n",
    "\n",
    "print(df_real2.columns)\n",
    "df_predict2.columns"
   ]
  },
  {
   "cell_type": "markdown",
   "metadata": {},
   "source": [
    "### 2. 제주전력시장 시장 전기가격"
   ]
  },
  {
   "cell_type": "code",
   "execution_count": 19,
   "metadata": {},
   "outputs": [],
   "source": [
    "# 15분 단위\n",
    "df_realtime = pd.read_csv('data/제주전력시장_시장전기가격_실시간가격.csv')\n",
    "# 1시간 단위\n",
    "df_yesterday = pd.read_csv('data/제주전력시장_시장전기가격_하루전가격.csv')\n",
    "\n",
    "# set(df_realtime['ts']) | set(df_yesterday['ts'])"
   ]
  },
  {
   "cell_type": "code",
   "execution_count": 27,
   "metadata": {},
   "outputs": [
    {
     "data": {
      "text/plain": [
       "[0, 1, 1, 3]"
      ]
     },
     "execution_count": 27,
     "metadata": {},
     "output_type": "execute_result"
    }
   ],
   "source": [
    "arr = [1,0,1,3,4]\n",
    "arr.pop()\n",
    "\n",
    "sum([x==1 for x in arr])\n",
    "sorted(arr)"
   ]
  },
  {
   "cell_type": "markdown",
   "metadata": {},
   "source": [
    "### 3. 제주 현황데이터 - 발전량 및 수요/공급\n",
    "- 5분 간격"
   ]
  },
  {
   "cell_type": "code",
   "execution_count": 15,
   "metadata": {},
   "outputs": [
    {
     "data": {
      "text/html": [
       "<div>\n",
       "<style scoped>\n",
       "    .dataframe tbody tr th:only-of-type {\n",
       "        vertical-align: middle;\n",
       "    }\n",
       "\n",
       "    .dataframe tbody tr th {\n",
       "        vertical-align: top;\n",
       "    }\n",
       "\n",
       "    .dataframe thead th {\n",
       "        text-align: right;\n",
       "    }\n",
       "</style>\n",
       "<table border=\"1\" class=\"dataframe\">\n",
       "  <thead>\n",
       "    <tr style=\"text-align: right;\">\n",
       "      <th></th>\n",
       "      <th>ts</th>\n",
       "      <th>공급능력(kW)</th>\n",
       "      <th>현재 수요(kW)</th>\n",
       "      <th>태양광 발전량kW)</th>\n",
       "      <th>풍력 발전량(kW)</th>\n",
       "      <th>신재생 발전량 총합(kW)</th>\n",
       "      <th>공급 예비력(kW)</th>\n",
       "      <th>운영 예비력(kW)</th>\n",
       "    </tr>\n",
       "  </thead>\n",
       "  <tbody>\n",
       "    <tr>\n",
       "      <th>0</th>\n",
       "      <td>1704034800</td>\n",
       "      <td>1298000.0</td>\n",
       "      <td>769000.0</td>\n",
       "      <td>0.0</td>\n",
       "      <td>125426.0</td>\n",
       "      <td>133103.0</td>\n",
       "      <td>529000.0</td>\n",
       "      <td>323000.0</td>\n",
       "    </tr>\n",
       "    <tr>\n",
       "      <th>1</th>\n",
       "      <td>1704035100</td>\n",
       "      <td>1299000.0</td>\n",
       "      <td>761000.0</td>\n",
       "      <td>0.0</td>\n",
       "      <td>130393.0</td>\n",
       "      <td>137867.0</td>\n",
       "      <td>538000.0</td>\n",
       "      <td>339000.0</td>\n",
       "    </tr>\n",
       "    <tr>\n",
       "      <th>2</th>\n",
       "      <td>1704035400</td>\n",
       "      <td>1290000.0</td>\n",
       "      <td>755000.0</td>\n",
       "      <td>0.0</td>\n",
       "      <td>120691.0</td>\n",
       "      <td>128133.0</td>\n",
       "      <td>534000.0</td>\n",
       "      <td>335000.0</td>\n",
       "    </tr>\n",
       "    <tr>\n",
       "      <th>3</th>\n",
       "      <td>1704035700</td>\n",
       "      <td>1277000.0</td>\n",
       "      <td>756000.0</td>\n",
       "      <td>0.0</td>\n",
       "      <td>107771.0</td>\n",
       "      <td>115519.0</td>\n",
       "      <td>521000.0</td>\n",
       "      <td>325000.0</td>\n",
       "    </tr>\n",
       "    <tr>\n",
       "      <th>4</th>\n",
       "      <td>1704036000</td>\n",
       "      <td>1269000.0</td>\n",
       "      <td>753000.0</td>\n",
       "      <td>0.0</td>\n",
       "      <td>99264.4</td>\n",
       "      <td>107153.0</td>\n",
       "      <td>515000.0</td>\n",
       "      <td>318000.0</td>\n",
       "    </tr>\n",
       "    <tr>\n",
       "      <th>...</th>\n",
       "      <td>...</td>\n",
       "      <td>...</td>\n",
       "      <td>...</td>\n",
       "      <td>...</td>\n",
       "      <td>...</td>\n",
       "      <td>...</td>\n",
       "      <td>...</td>\n",
       "      <td>...</td>\n",
       "    </tr>\n",
       "    <tr>\n",
       "      <th>84075</th>\n",
       "      <td>1729607700</td>\n",
       "      <td>1254000.0</td>\n",
       "      <td>624000.0</td>\n",
       "      <td>0.0</td>\n",
       "      <td>247628.0</td>\n",
       "      <td>256210.0</td>\n",
       "      <td>625000.0</td>\n",
       "      <td>277000.0</td>\n",
       "    </tr>\n",
       "    <tr>\n",
       "      <th>84076</th>\n",
       "      <td>1729608000</td>\n",
       "      <td>1248000.0</td>\n",
       "      <td>618000.0</td>\n",
       "      <td>0.0</td>\n",
       "      <td>246598.0</td>\n",
       "      <td>255217.0</td>\n",
       "      <td>627000.0</td>\n",
       "      <td>277000.0</td>\n",
       "    </tr>\n",
       "    <tr>\n",
       "      <th>84077</th>\n",
       "      <td>1729608300</td>\n",
       "      <td>1255000.0</td>\n",
       "      <td>621000.0</td>\n",
       "      <td>0.0</td>\n",
       "      <td>251494.0</td>\n",
       "      <td>260161.0</td>\n",
       "      <td>630000.0</td>\n",
       "      <td>281000.0</td>\n",
       "    </tr>\n",
       "    <tr>\n",
       "      <th>84078</th>\n",
       "      <td>1729608600</td>\n",
       "      <td>1259000.0</td>\n",
       "      <td>612000.0</td>\n",
       "      <td>0.0</td>\n",
       "      <td>252912.0</td>\n",
       "      <td>261535.0</td>\n",
       "      <td>642000.0</td>\n",
       "      <td>290000.0</td>\n",
       "    </tr>\n",
       "    <tr>\n",
       "      <th>84079</th>\n",
       "      <td>1729609200</td>\n",
       "      <td>1254000.0</td>\n",
       "      <td>599000.0</td>\n",
       "      <td>0.0</td>\n",
       "      <td>248589.0</td>\n",
       "      <td>257082.0</td>\n",
       "      <td>650000.0</td>\n",
       "      <td>303000.0</td>\n",
       "    </tr>\n",
       "  </tbody>\n",
       "</table>\n",
       "<p>84080 rows × 8 columns</p>\n",
       "</div>"
      ],
      "text/plain": [
       "               ts   공급능력(kW)  현재 수요(kW)  태양광 발전량kW)  풍력 발전량(kW)  \\\n",
       "0      1704034800  1298000.0   769000.0         0.0    125426.0   \n",
       "1      1704035100  1299000.0   761000.0         0.0    130393.0   \n",
       "2      1704035400  1290000.0   755000.0         0.0    120691.0   \n",
       "3      1704035700  1277000.0   756000.0         0.0    107771.0   \n",
       "4      1704036000  1269000.0   753000.0         0.0     99264.4   \n",
       "...           ...        ...        ...         ...         ...   \n",
       "84075  1729607700  1254000.0   624000.0         0.0    247628.0   \n",
       "84076  1729608000  1248000.0   618000.0         0.0    246598.0   \n",
       "84077  1729608300  1255000.0   621000.0         0.0    251494.0   \n",
       "84078  1729608600  1259000.0   612000.0         0.0    252912.0   \n",
       "84079  1729609200  1254000.0   599000.0         0.0    248589.0   \n",
       "\n",
       "       신재생 발전량 총합(kW)  공급 예비력(kW)  운영 예비력(kW)  \n",
       "0            133103.0    529000.0    323000.0  \n",
       "1            137867.0    538000.0    339000.0  \n",
       "2            128133.0    534000.0    335000.0  \n",
       "3            115519.0    521000.0    325000.0  \n",
       "4            107153.0    515000.0    318000.0  \n",
       "...               ...         ...         ...  \n",
       "84075        256210.0    625000.0    277000.0  \n",
       "84076        255217.0    627000.0    277000.0  \n",
       "84077        260161.0    630000.0    281000.0  \n",
       "84078        261535.0    642000.0    290000.0  \n",
       "84079        257082.0    650000.0    303000.0  \n",
       "\n",
       "[84080 rows x 8 columns]"
      ]
     },
     "execution_count": 15,
     "metadata": {},
     "output_type": "execute_result"
    }
   ],
   "source": [
    "df_energy = pd.read_csv('data/제주전력시장_현황데이터.csv')\n",
    "df_energy"
   ]
  }
 ],
 "metadata": {
  "kernelspec": {
   "display_name": "Python 3",
   "language": "python",
   "name": "python3"
  },
  "language_info": {
   "codemirror_mode": {
    "name": "ipython",
    "version": 3
   },
   "file_extension": ".py",
   "mimetype": "text/x-python",
   "name": "python",
   "nbconvert_exporter": "python",
   "pygments_lexer": "ipython3",
   "version": "3.11.8"
  }
 },
 "nbformat": 4,
 "nbformat_minor": 2
}
